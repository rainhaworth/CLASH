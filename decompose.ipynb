{
 "cells": [
  {
   "cell_type": "code",
   "execution_count": 1,
   "metadata": {},
   "outputs": [],
   "source": [
    "import bz2\n",
    "import argparse\n",
    "from tqdm import tqdm\n",
    "import math\n",
    "\n",
    "# Convert scaffolds with gaps labeled as 'N' to list of contigs\n",
    "def scaffold_to_contigs(seq, min=100, max=4096):\n",
    "    contigs = seq.split('N')\n",
    "    # Break configs over max into sub-contigs, with redundancies\n",
    "    in_range = []\n",
    "    for contig in contigs:\n",
    "        if len(contig) > max:\n",
    "            in_range += [contig[i:i+max] for i in range(0, len(contig), max//2)]\n",
    "        else:\n",
    "            in_range.append(contig)\n",
    "    # Return (sub-)contigs over min\n",
    "    return [contig for contig in in_range if len(contig) > min]\n",
    "            "
   ]
  },
  {
   "cell_type": "code",
   "execution_count": 2,
   "metadata": {},
   "outputs": [
    {
     "name": "stdout",
     "output_type": "stream",
     "text": [
      "File:  ./data-scratch\\SRS022713.scaffolds.fa.bz2\n",
      "File:  ./data-scratch\\SRS042628.scaffolds.fa.bz2\n"
     ]
    }
   ],
   "source": [
    "import os\n",
    "import glob\n",
    "\n",
    "dir = './data-scratch'\n",
    "outdir = './data-tmp'\n",
    "\n",
    "files = sorted(glob.glob(os.path.join(dir, '*.bz2')))\n",
    "\n",
    "idx = 0\n",
    "\n",
    "for file in files:\n",
    "    print(\"File: \", file)\n",
    "    with bz2.open(file, 'rt') as f: # read as text\n",
    "        fasta = f.readlines()\n",
    "\n",
    "    # Extract sequences from lines, then lines from sequence\n",
    "    name = ''\n",
    "    seq = ''\n",
    "    for line in fasta[0:500]:\n",
    "        if line[0] == '>':\n",
    "            # If seq is not empty, we have found the end of a sequence; extract contigs and write to files\n",
    "            if seq != '':\n",
    "                contigs = scaffold_to_contigs(seq)\n",
    "\n",
    "                for contig in contigs:\n",
    "                    # Generate filename, write as .txt, iterate idx\n",
    "                    filename = str(idx) + '_' + os.path.basename(file) + '_' + name + '.txt'\n",
    "                    with open(os.path.join(outdir, filename), 'w') as f:\n",
    "                        f.write(contig)\n",
    "                    \n",
    "                    idx += 1\n",
    "\n",
    "            # Update name\n",
    "            name = line[1:-1]\n",
    "        else:\n",
    "            seq += line.strip(' \\n')"
   ]
  }
 ],
 "metadata": {
  "kernelspec": {
   "display_name": "base",
   "language": "python",
   "name": "python3"
  },
  "language_info": {
   "codemirror_mode": {
    "name": "ipython",
    "version": 3
   },
   "file_extension": ".py",
   "mimetype": "text/x-python",
   "name": "python",
   "nbconvert_exporter": "python",
   "pygments_lexer": "ipython3",
   "version": "3.9.12"
  },
  "orig_nbformat": 4,
  "vscode": {
   "interpreter": {
    "hash": "6fef9b42c86c3d6ebbde05e26b7e5f27f62f6a1eda85398c14c17d930513ca41"
   }
  }
 },
 "nbformat": 4,
 "nbformat_minor": 2
}
